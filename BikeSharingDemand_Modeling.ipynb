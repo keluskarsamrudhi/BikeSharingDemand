{
  "nbformat": 4,
  "nbformat_minor": 0,
  "metadata": {
    "colab": {
      "name": "BikeSharingDemand_Modeling.ipynb",
      "provenance": [],
      "collapsed_sections": []
    },
    "kernelspec": {
      "name": "python3",
      "display_name": "Python 3"
    }
  },
  "cells": [
    {
      "cell_type": "code",
      "metadata": {
        "id": "jkSi8qIWrfTg",
        "colab": {
          "base_uri": "https://localhost:8080/"
        },
        "outputId": "3da49499-29a9-4bd0-a1c3-b5b733e2977d"
      },
      "source": [
        "from google.colab import drive\n",
        "drive.mount('/content/drive/')\n",
        "%cd /content/drive/My Drive/Colab Notebooks/data/upgrad/SEM2/BikeSharingAssignment-LinearRegression"
      ],
      "execution_count": 1,
      "outputs": [
        {
          "output_type": "stream",
          "text": [
            "Mounted at /content/drive/\n",
            "/content/drive/My Drive/Colab Notebooks/data/upgrad/SEM2/BikeSharingAssignment-LinearRegression\n"
          ],
          "name": "stdout"
        }
      ]
    },
    {
      "cell_type": "code",
      "metadata": {
        "id": "zZS2QT-Y0VZn"
      },
      "source": [
        "# Imports\r\n",
        "\r\n",
        "!pip install scikit-learn==0.24.1 category_encoders\r\n",
        "import warnings\r\n",
        "warnings.filterwarnings('ignore')\r\n",
        "\r\n",
        "import pandas as pd\r\n",
        "from pandas import DataFrame\r\n",
        "pd.set_option(\"display.max_columns\", 300)\r\n",
        "pd.set_option(\"display.max_rows\", 300)\r\n",
        "import numpy as np\r\n",
        "import matplotlib.pyplot as plt\r\n",
        "import seaborn as sns\r\n",
        "import category_encoders as ce\r\n",
        "import time\r\n",
        "import string\r\n",
        "import re\r\n",
        "from scipy import sparse\r\n",
        "from joblib import Parallel\r\n",
        "\r\n",
        "import statsmodels.api as sm\r\n",
        "from statsmodels.stats.outliers_influence import variance_inflation_factor\r\n",
        "\r\n",
        "from sklearn.ensemble import RandomForestRegressor, RandomForestClassifier,GradientBoostingClassifier\r\n",
        "from sklearn.metrics import roc_auc_score, classification_report, confusion_matrix, precision_score, recall_score, accuracy_score, f1_score,r2_score, mean_squared_error\r\n",
        "from sklearn.linear_model import LogisticRegression,LinearRegression\r\n",
        "from sklearn.feature_selection import RFE, SelectKBest, chi2, f_classif\r\n",
        "from sklearn.preprocessing import MinMaxScaler, StandardScaler, LabelEncoder, OneHotEncoder, FunctionTransformer, RobustScaler\r\n",
        "from sklearn.model_selection import train_test_split, GridSearchCV, RandomizedSearchCV\r\n",
        "from sklearn.utils.fixes import delayed\r\n",
        "from sklearn.pipeline import Pipeline, FeatureUnion\r\n",
        "from sklearn import pipeline\r\n",
        "from sklearn.feature_extraction.text import TfidfVectorizer, CountVectorizer\r\n",
        "from sklearn.base import BaseEstimator, TransformerMixin"
      ],
      "execution_count": null,
      "outputs": []
    },
    {
      "cell_type": "code",
      "metadata": {
        "id": "u62ve0xE6Had"
      },
      "source": [
        "# Defining encoder/transformer classes\r\n",
        "\r\n",
        "class FeatureUnionPandas(FeatureUnion):\r\n",
        "\r\n",
        "    def merge_dataframes_by_column(self, Xs):\r\n",
        "        return pd.concat(Xs, axis=\"columns\", copy=False)\r\n",
        "\r\n",
        "    def transform(self, X):\r\n",
        "#         from joblib import Parallel\r\n",
        "#         from sklearn.utils.fixes import delayed\r\n",
        "       \r\n",
        "       \r\n",
        "        Xs = Parallel(n_jobs=self.n_jobs)(\r\n",
        "            delayed(pipeline._transform_one)(trans, X, None, weight)\r\n",
        "            for name, trans, weight in self._iter())\r\n",
        "        if not Xs:\r\n",
        "            # All transformers are None\r\n",
        "            return np.zeros((X.shape[0], 0))\r\n",
        "       \r\n",
        "        # print(\"Processing FeatureUnion at:\", round(time.time()/60)%1000, 'minutes')\r\n",
        "       \r\n",
        "        if any(sparse.issparse(f) for f in Xs):\r\n",
        "            Xs = sparse.hstack(Xs).tocsr()\r\n",
        "        else:\r\n",
        "            Xs = self.merge_dataframes_by_column(Xs)\r\n",
        "        return Xs\r\n",
        "   \r\n",
        "    def fit_transform(self, X, y=None, **fit_params):\r\n",
        "       \r\n",
        "        results = self._parallel_func(X, y, fit_params, pipeline._fit_transform_one)\r\n",
        "\r\n",
        "        if not results:\r\n",
        "            # All transformers are None\r\n",
        "            return np.zeros((X.shape[0], 0))\r\n",
        "       \r\n",
        "        # print(\"Processing FeatureUnion at:\", round(time.time()/60)%1000, 'minutes')\r\n",
        "       \r\n",
        "        Xs, transformers = zip(*results)\r\n",
        "       \r\n",
        "        self._update_transformer_list(transformers)\r\n",
        "       \r\n",
        "        if any(sparse.issparse(f) for f in Xs):\r\n",
        "            Xs = sparse.hstack(Xs).tocsr()\r\n",
        "        else:\r\n",
        "            Xs = self.merge_dataframes_by_column(Xs)\r\n",
        "        return Xs\r\n",
        "  \r\n",
        "\r\n",
        "class AddSquareTerms(BaseEstimator, TransformerMixin):\r\n",
        "  def __init__(self, square_variables = None, num_variables = None):\r\n",
        "    self.square_variables = square_variables\r\n",
        "    self.num_variables = num_variables\r\n",
        "\r\n",
        "  def fit(self, X, y=None):\r\n",
        "    None\r\n",
        "    return self\r\n",
        "\r\n",
        "  def transform(self, X):\r\n",
        "    X = X[self.num_variables].copy()\r\n",
        "    for i in self.square_variables:\r\n",
        "      X[i+\"_sq\"] = X[i]**2\r\n",
        "    return X\r\n",
        "\r\n",
        "\r\n",
        "class RareLabelCategoricalEncoder(BaseEstimator, TransformerMixin):\r\n",
        "    \"\"\"Rare label categorical encoder\"\"\"\r\n",
        "\r\n",
        "    def __init__(self, variables=None, tol=0.001):\r\n",
        "        self.tol = tol\r\n",
        "        self.variables = variables\r\n",
        "\r\n",
        "    def fit(self, X, y=None):\r\n",
        "\r\n",
        "        if not isinstance(self.variables, list):\r\n",
        "            self.variables = sorted([self.variables])\r\n",
        "        else:\r\n",
        "            self.variables = sorted(self.variables)\r\n",
        "           \r\n",
        "        # for compatibility with ColumnTransformer\r\n",
        "        if self.variables == [None]:\r\n",
        "            self.variables = X.columns\r\n",
        "           \r\n",
        "        # persist frequent labels in dictionary\r\n",
        "        self.encoder_dict_ = {}\r\n",
        "\r\n",
        "        X = X[self.variables].copy()\r\n",
        "        for var in self.variables:\r\n",
        "            X[var] = X[var].replace(r'^\\s*$', np.nan, regex=True).fillna('ZZ').astype('str')\r\n",
        "            # the encoder will learn the most frequent categories\r\n",
        "            t = pd.Series(X[var].value_counts() / np.float(len(X)))\r\n",
        "            # frequent labels:\r\n",
        "            self.encoder_dict_[var] = list(t[t >= self.tol].index)\r\n",
        "\r\n",
        "        return self\r\n",
        "\r\n",
        "    def transform(self, X):\r\n",
        "        # print(\"Processing RareLabelCategoricalEncoder at:\", round(time.time()/60)%1000, 'minutes')\r\n",
        "       \r\n",
        "        X = X[self.variables].copy()\r\n",
        "        for feature in self.variables:\r\n",
        "            X[feature] = X[feature].replace(r'^\\s*$', np.nan, regex=True).fillna('ZZ').astype('str')\r\n",
        "            X[feature] = np.where(X[feature].isin(self.encoder_dict_[feature]), X[feature], 'Rare')\r\n",
        "        return X\r\n",
        "\r\n",
        "\r\n",
        "class MinMaxScalerPandas(BaseEstimator, TransformerMixin):\r\n",
        "   \r\n",
        "    def __init__(self):\r\n",
        "        None\r\n",
        "       \r\n",
        "    def fit(self, X, y=None):\r\n",
        "       \r\n",
        "        self.columns = X.columns\r\n",
        "        self.scaler = MinMaxScaler() #RobustScaler(unit_variance=True)\r\n",
        "        self.scaler.fit(X)\r\n",
        "       \r\n",
        "        return self\r\n",
        "   \r\n",
        "    def transform(self, X):\r\n",
        "       \r\n",
        "        X = X.copy()\r\n",
        "        index = X.index.values\r\n",
        "        X = DataFrame(self.scaler.transform(X), index = index, columns = self.columns)\r\n",
        "       \r\n",
        "        return X"
      ],
      "execution_count": 3,
      "outputs": []
    },
    {
      "cell_type": "code",
      "metadata": {
        "id": "jJtGsM7CVc2a",
        "colab": {
          "base_uri": "https://localhost:8080/"
        },
        "outputId": "13bb9b2f-a9af-4208-da8d-c0069c432f91"
      },
      "source": [
        "# Reading the data\n",
        "\n",
        "df_bike = pd.read_csv(\"day.csv\")\n",
        "df_bike['dteday'] = pd.to_datetime(df_bike['dteday'])\n",
        "df_bike.info()"
      ],
      "execution_count": 4,
      "outputs": [
        {
          "output_type": "stream",
          "text": [
            "<class 'pandas.core.frame.DataFrame'>\n",
            "RangeIndex: 730 entries, 0 to 729\n",
            "Data columns (total 16 columns):\n",
            " #   Column      Non-Null Count  Dtype         \n",
            "---  ------      --------------  -----         \n",
            " 0   instant     730 non-null    int64         \n",
            " 1   dteday      730 non-null    datetime64[ns]\n",
            " 2   season      730 non-null    int64         \n",
            " 3   yr          730 non-null    int64         \n",
            " 4   mnth        730 non-null    int64         \n",
            " 5   holiday     730 non-null    int64         \n",
            " 6   weekday     730 non-null    int64         \n",
            " 7   workingday  730 non-null    int64         \n",
            " 8   weathersit  730 non-null    int64         \n",
            " 9   temp        730 non-null    float64       \n",
            " 10  atemp       730 non-null    float64       \n",
            " 11  hum         730 non-null    float64       \n",
            " 12  windspeed   730 non-null    float64       \n",
            " 13  casual      730 non-null    int64         \n",
            " 14  registered  730 non-null    int64         \n",
            " 15  cnt         730 non-null    int64         \n",
            "dtypes: datetime64[ns](1), float64(4), int64(11)\n",
            "memory usage: 91.4 KB\n"
          ],
          "name": "stdout"
        }
      ]
    },
    {
      "cell_type": "code",
      "metadata": {
        "id": "CI_2SZHQYvzn",
        "colab": {
          "base_uri": "https://localhost:8080/",
          "height": 204
        },
        "outputId": "a0bd81b1-d58c-49f9-c0df-f4bc5e12a0e7"
      },
      "source": [
        "df_bike.head()"
      ],
      "execution_count": 5,
      "outputs": [
        {
          "output_type": "execute_result",
          "data": {
            "text/html": [
              "<div>\n",
              "<style scoped>\n",
              "    .dataframe tbody tr th:only-of-type {\n",
              "        vertical-align: middle;\n",
              "    }\n",
              "\n",
              "    .dataframe tbody tr th {\n",
              "        vertical-align: top;\n",
              "    }\n",
              "\n",
              "    .dataframe thead th {\n",
              "        text-align: right;\n",
              "    }\n",
              "</style>\n",
              "<table border=\"1\" class=\"dataframe\">\n",
              "  <thead>\n",
              "    <tr style=\"text-align: right;\">\n",
              "      <th></th>\n",
              "      <th>instant</th>\n",
              "      <th>dteday</th>\n",
              "      <th>season</th>\n",
              "      <th>yr</th>\n",
              "      <th>mnth</th>\n",
              "      <th>holiday</th>\n",
              "      <th>weekday</th>\n",
              "      <th>workingday</th>\n",
              "      <th>weathersit</th>\n",
              "      <th>temp</th>\n",
              "      <th>atemp</th>\n",
              "      <th>hum</th>\n",
              "      <th>windspeed</th>\n",
              "      <th>casual</th>\n",
              "      <th>registered</th>\n",
              "      <th>cnt</th>\n",
              "    </tr>\n",
              "  </thead>\n",
              "  <tbody>\n",
              "    <tr>\n",
              "      <th>0</th>\n",
              "      <td>1</td>\n",
              "      <td>2018-01-01</td>\n",
              "      <td>1</td>\n",
              "      <td>0</td>\n",
              "      <td>1</td>\n",
              "      <td>0</td>\n",
              "      <td>6</td>\n",
              "      <td>0</td>\n",
              "      <td>2</td>\n",
              "      <td>14.110847</td>\n",
              "      <td>18.18125</td>\n",
              "      <td>80.5833</td>\n",
              "      <td>10.749882</td>\n",
              "      <td>331</td>\n",
              "      <td>654</td>\n",
              "      <td>985</td>\n",
              "    </tr>\n",
              "    <tr>\n",
              "      <th>1</th>\n",
              "      <td>2</td>\n",
              "      <td>2018-02-01</td>\n",
              "      <td>1</td>\n",
              "      <td>0</td>\n",
              "      <td>1</td>\n",
              "      <td>0</td>\n",
              "      <td>0</td>\n",
              "      <td>0</td>\n",
              "      <td>2</td>\n",
              "      <td>14.902598</td>\n",
              "      <td>17.68695</td>\n",
              "      <td>69.6087</td>\n",
              "      <td>16.652113</td>\n",
              "      <td>131</td>\n",
              "      <td>670</td>\n",
              "      <td>801</td>\n",
              "    </tr>\n",
              "    <tr>\n",
              "      <th>2</th>\n",
              "      <td>3</td>\n",
              "      <td>2018-03-01</td>\n",
              "      <td>1</td>\n",
              "      <td>0</td>\n",
              "      <td>1</td>\n",
              "      <td>0</td>\n",
              "      <td>1</td>\n",
              "      <td>1</td>\n",
              "      <td>1</td>\n",
              "      <td>8.050924</td>\n",
              "      <td>9.47025</td>\n",
              "      <td>43.7273</td>\n",
              "      <td>16.636703</td>\n",
              "      <td>120</td>\n",
              "      <td>1229</td>\n",
              "      <td>1349</td>\n",
              "    </tr>\n",
              "    <tr>\n",
              "      <th>3</th>\n",
              "      <td>4</td>\n",
              "      <td>2018-04-01</td>\n",
              "      <td>1</td>\n",
              "      <td>0</td>\n",
              "      <td>1</td>\n",
              "      <td>0</td>\n",
              "      <td>2</td>\n",
              "      <td>1</td>\n",
              "      <td>1</td>\n",
              "      <td>8.200000</td>\n",
              "      <td>10.60610</td>\n",
              "      <td>59.0435</td>\n",
              "      <td>10.739832</td>\n",
              "      <td>108</td>\n",
              "      <td>1454</td>\n",
              "      <td>1562</td>\n",
              "    </tr>\n",
              "    <tr>\n",
              "      <th>4</th>\n",
              "      <td>5</td>\n",
              "      <td>2018-05-01</td>\n",
              "      <td>1</td>\n",
              "      <td>0</td>\n",
              "      <td>1</td>\n",
              "      <td>0</td>\n",
              "      <td>3</td>\n",
              "      <td>1</td>\n",
              "      <td>1</td>\n",
              "      <td>9.305237</td>\n",
              "      <td>11.46350</td>\n",
              "      <td>43.6957</td>\n",
              "      <td>12.522300</td>\n",
              "      <td>82</td>\n",
              "      <td>1518</td>\n",
              "      <td>1600</td>\n",
              "    </tr>\n",
              "  </tbody>\n",
              "</table>\n",
              "</div>"
            ],
            "text/plain": [
              "   instant     dteday  season  yr  ...  windspeed  casual  registered   cnt\n",
              "0        1 2018-01-01       1   0  ...  10.749882     331         654   985\n",
              "1        2 2018-02-01       1   0  ...  16.652113     131         670   801\n",
              "2        3 2018-03-01       1   0  ...  16.636703     120        1229  1349\n",
              "3        4 2018-04-01       1   0  ...  10.739832     108        1454  1562\n",
              "4        5 2018-05-01       1   0  ...  12.522300      82        1518  1600\n",
              "\n",
              "[5 rows x 16 columns]"
            ]
          },
          "metadata": {
            "tags": []
          },
          "execution_count": 5
        }
      ]
    },
    {
      "cell_type": "markdown",
      "metadata": {
        "id": "vIdolJuI4gQy"
      },
      "source": [
        "\"Instant\" and \"dteday\" are not useful here, hence dropping them.\r\n",
        "\r\n",
        "Since \"registered\" and \"casual\" add up to make the target (\"cnt\"), we cannot use these in building the model as they would not be available ahead of time."
      ]
    },
    {
      "cell_type": "code",
      "metadata": {
        "id": "ydw4X2Qa5ndQ"
      },
      "source": [
        "df_bike1 = df_bike.drop(['instant', 'dteday', 'casual','registered'], axis = 1)"
      ],
      "execution_count": 6,
      "outputs": []
    },
    {
      "cell_type": "code",
      "metadata": {
        "id": "nrcpCvWKhOMv",
        "colab": {
          "base_uri": "https://localhost:8080/",
          "height": 441
        },
        "outputId": "31af3159-1799-4a6d-8748-44fb52786fbb"
      },
      "source": [
        "df_bike1.describe([0.01, 0.05, 0.1, 0.25, 0.5, 0.75, 0.9, 0.95, 0.99]).T"
      ],
      "execution_count": 7,
      "outputs": [
        {
          "output_type": "execute_result",
          "data": {
            "text/html": [
              "<div>\n",
              "<style scoped>\n",
              "    .dataframe tbody tr th:only-of-type {\n",
              "        vertical-align: middle;\n",
              "    }\n",
              "\n",
              "    .dataframe tbody tr th {\n",
              "        vertical-align: top;\n",
              "    }\n",
              "\n",
              "    .dataframe thead th {\n",
              "        text-align: right;\n",
              "    }\n",
              "</style>\n",
              "<table border=\"1\" class=\"dataframe\">\n",
              "  <thead>\n",
              "    <tr style=\"text-align: right;\">\n",
              "      <th></th>\n",
              "      <th>count</th>\n",
              "      <th>mean</th>\n",
              "      <th>std</th>\n",
              "      <th>min</th>\n",
              "      <th>1%</th>\n",
              "      <th>5%</th>\n",
              "      <th>10%</th>\n",
              "      <th>25%</th>\n",
              "      <th>50%</th>\n",
              "      <th>75%</th>\n",
              "      <th>90%</th>\n",
              "      <th>95%</th>\n",
              "      <th>99%</th>\n",
              "      <th>max</th>\n",
              "    </tr>\n",
              "  </thead>\n",
              "  <tbody>\n",
              "    <tr>\n",
              "      <th>season</th>\n",
              "      <td>730.0</td>\n",
              "      <td>2.498630</td>\n",
              "      <td>1.110184</td>\n",
              "      <td>1.000000</td>\n",
              "      <td>1.000000</td>\n",
              "      <td>1.000000</td>\n",
              "      <td>1.000000</td>\n",
              "      <td>2.000000</td>\n",
              "      <td>3.000000</td>\n",
              "      <td>3.000000</td>\n",
              "      <td>4.000000</td>\n",
              "      <td>4.000000</td>\n",
              "      <td>4.000000</td>\n",
              "      <td>4.000000</td>\n",
              "    </tr>\n",
              "    <tr>\n",
              "      <th>yr</th>\n",
              "      <td>730.0</td>\n",
              "      <td>0.500000</td>\n",
              "      <td>0.500343</td>\n",
              "      <td>0.000000</td>\n",
              "      <td>0.000000</td>\n",
              "      <td>0.000000</td>\n",
              "      <td>0.000000</td>\n",
              "      <td>0.000000</td>\n",
              "      <td>0.500000</td>\n",
              "      <td>1.000000</td>\n",
              "      <td>1.000000</td>\n",
              "      <td>1.000000</td>\n",
              "      <td>1.000000</td>\n",
              "      <td>1.000000</td>\n",
              "    </tr>\n",
              "    <tr>\n",
              "      <th>mnth</th>\n",
              "      <td>730.0</td>\n",
              "      <td>6.526027</td>\n",
              "      <td>3.450215</td>\n",
              "      <td>1.000000</td>\n",
              "      <td>1.000000</td>\n",
              "      <td>1.000000</td>\n",
              "      <td>2.000000</td>\n",
              "      <td>4.000000</td>\n",
              "      <td>7.000000</td>\n",
              "      <td>10.000000</td>\n",
              "      <td>11.000000</td>\n",
              "      <td>12.000000</td>\n",
              "      <td>12.000000</td>\n",
              "      <td>12.000000</td>\n",
              "    </tr>\n",
              "    <tr>\n",
              "      <th>holiday</th>\n",
              "      <td>730.0</td>\n",
              "      <td>0.028767</td>\n",
              "      <td>0.167266</td>\n",
              "      <td>0.000000</td>\n",
              "      <td>0.000000</td>\n",
              "      <td>0.000000</td>\n",
              "      <td>0.000000</td>\n",
              "      <td>0.000000</td>\n",
              "      <td>0.000000</td>\n",
              "      <td>0.000000</td>\n",
              "      <td>0.000000</td>\n",
              "      <td>0.000000</td>\n",
              "      <td>1.000000</td>\n",
              "      <td>1.000000</td>\n",
              "    </tr>\n",
              "    <tr>\n",
              "      <th>weekday</th>\n",
              "      <td>730.0</td>\n",
              "      <td>2.997260</td>\n",
              "      <td>2.006161</td>\n",
              "      <td>0.000000</td>\n",
              "      <td>0.000000</td>\n",
              "      <td>0.000000</td>\n",
              "      <td>0.000000</td>\n",
              "      <td>1.000000</td>\n",
              "      <td>3.000000</td>\n",
              "      <td>5.000000</td>\n",
              "      <td>6.000000</td>\n",
              "      <td>6.000000</td>\n",
              "      <td>6.000000</td>\n",
              "      <td>6.000000</td>\n",
              "    </tr>\n",
              "    <tr>\n",
              "      <th>workingday</th>\n",
              "      <td>730.0</td>\n",
              "      <td>0.683562</td>\n",
              "      <td>0.465405</td>\n",
              "      <td>0.000000</td>\n",
              "      <td>0.000000</td>\n",
              "      <td>0.000000</td>\n",
              "      <td>0.000000</td>\n",
              "      <td>0.000000</td>\n",
              "      <td>1.000000</td>\n",
              "      <td>1.000000</td>\n",
              "      <td>1.000000</td>\n",
              "      <td>1.000000</td>\n",
              "      <td>1.000000</td>\n",
              "      <td>1.000000</td>\n",
              "    </tr>\n",
              "    <tr>\n",
              "      <th>weathersit</th>\n",
              "      <td>730.0</td>\n",
              "      <td>1.394521</td>\n",
              "      <td>0.544807</td>\n",
              "      <td>1.000000</td>\n",
              "      <td>1.000000</td>\n",
              "      <td>1.000000</td>\n",
              "      <td>1.000000</td>\n",
              "      <td>1.000000</td>\n",
              "      <td>1.000000</td>\n",
              "      <td>2.000000</td>\n",
              "      <td>2.000000</td>\n",
              "      <td>2.000000</td>\n",
              "      <td>3.000000</td>\n",
              "      <td>3.000000</td>\n",
              "    </tr>\n",
              "    <tr>\n",
              "      <th>temp</th>\n",
              "      <td>730.0</td>\n",
              "      <td>20.319259</td>\n",
              "      <td>7.506729</td>\n",
              "      <td>2.424346</td>\n",
              "      <td>5.985470</td>\n",
              "      <td>8.747024</td>\n",
              "      <td>10.653165</td>\n",
              "      <td>13.811885</td>\n",
              "      <td>20.465826</td>\n",
              "      <td>26.880615</td>\n",
              "      <td>29.998347</td>\n",
              "      <td>31.520460</td>\n",
              "      <td>33.868050</td>\n",
              "      <td>35.328347</td>\n",
              "    </tr>\n",
              "    <tr>\n",
              "      <th>atemp</th>\n",
              "      <td>730.0</td>\n",
              "      <td>23.726322</td>\n",
              "      <td>8.150308</td>\n",
              "      <td>3.953480</td>\n",
              "      <td>7.290493</td>\n",
              "      <td>11.030712</td>\n",
              "      <td>12.752280</td>\n",
              "      <td>16.889713</td>\n",
              "      <td>24.368225</td>\n",
              "      <td>30.445775</td>\n",
              "      <td>33.908210</td>\n",
              "      <td>35.749975</td>\n",
              "      <td>38.941650</td>\n",
              "      <td>42.044800</td>\n",
              "    </tr>\n",
              "    <tr>\n",
              "      <th>hum</th>\n",
              "      <td>730.0</td>\n",
              "      <td>62.765175</td>\n",
              "      <td>14.237589</td>\n",
              "      <td>0.000000</td>\n",
              "      <td>31.209593</td>\n",
              "      <td>40.741735</td>\n",
              "      <td>45.000000</td>\n",
              "      <td>52.000000</td>\n",
              "      <td>62.625000</td>\n",
              "      <td>72.989575</td>\n",
              "      <td>81.762500</td>\n",
              "      <td>86.868735</td>\n",
              "      <td>92.795857</td>\n",
              "      <td>97.250000</td>\n",
              "    </tr>\n",
              "    <tr>\n",
              "      <th>windspeed</th>\n",
              "      <td>730.0</td>\n",
              "      <td>12.763620</td>\n",
              "      <td>5.195841</td>\n",
              "      <td>1.500244</td>\n",
              "      <td>3.548993</td>\n",
              "      <td>5.326052</td>\n",
              "      <td>6.704754</td>\n",
              "      <td>9.041650</td>\n",
              "      <td>12.125325</td>\n",
              "      <td>15.625589</td>\n",
              "      <td>19.833997</td>\n",
              "      <td>22.999988</td>\n",
              "      <td>27.380948</td>\n",
              "      <td>34.000021</td>\n",
              "    </tr>\n",
              "    <tr>\n",
              "      <th>cnt</th>\n",
              "      <td>730.0</td>\n",
              "      <td>4508.006849</td>\n",
              "      <td>1936.011647</td>\n",
              "      <td>22.000000</td>\n",
              "      <td>689.380000</td>\n",
              "      <td>1330.000000</td>\n",
              "      <td>1742.600000</td>\n",
              "      <td>3169.750000</td>\n",
              "      <td>4548.500000</td>\n",
              "      <td>5966.000000</td>\n",
              "      <td>7293.800000</td>\n",
              "      <td>7576.400000</td>\n",
              "      <td>8163.810000</td>\n",
              "      <td>8714.000000</td>\n",
              "    </tr>\n",
              "  </tbody>\n",
              "</table>\n",
              "</div>"
            ],
            "text/plain": [
              "            count         mean  ...          99%          max\n",
              "season      730.0     2.498630  ...     4.000000     4.000000\n",
              "yr          730.0     0.500000  ...     1.000000     1.000000\n",
              "mnth        730.0     6.526027  ...    12.000000    12.000000\n",
              "holiday     730.0     0.028767  ...     1.000000     1.000000\n",
              "weekday     730.0     2.997260  ...     6.000000     6.000000\n",
              "workingday  730.0     0.683562  ...     1.000000     1.000000\n",
              "weathersit  730.0     1.394521  ...     3.000000     3.000000\n",
              "temp        730.0    20.319259  ...    33.868050    35.328347\n",
              "atemp       730.0    23.726322  ...    38.941650    42.044800\n",
              "hum         730.0    62.765175  ...    92.795857    97.250000\n",
              "windspeed   730.0    12.763620  ...    27.380948    34.000021\n",
              "cnt         730.0  4508.006849  ...  8163.810000  8714.000000\n",
              "\n",
              "[12 rows x 14 columns]"
            ]
          },
          "metadata": {
            "tags": []
          },
          "execution_count": 7
        }
      ]
    },
    {
      "cell_type": "code",
      "metadata": {
        "id": "yKsfCTHrMdqo"
      },
      "source": [
        "# [season\"]       1:\"winter\", 2:\"spring\", 3:\"summer\", 4:\"fall\" \n",
        "# [\"weathersit\"]  1:\"clear\", 2:\"cloudy\", 3: \"light_precipitation\", 4: \"heavy_precipitation\"\n",
        "# [\"mnth\"]        1:\"Jan\", 2:\"Feb\", 3: \"Mar\", 4: \"Apr\", 5: \"May\", 6: \"Jun\", 7: \"July\", 8: \"Aug\", 9: \"Sept\", 10: \"Oct\", 11: \"Nov\", 12: \"Dec\"\n",
        "# [\"weekday\"]     0:\"Sun\", 1:\"Mon\", 2:\"Tue\", 3:\"Wed\", 4:\"Thur\", 5: \"Fri\", 6: \"Sat\""
      ],
      "execution_count": 8,
      "outputs": []
    },
    {
      "cell_type": "code",
      "metadata": {
        "id": "QrDyfYjw64Ku"
      },
      "source": [
        "# Columns to use for Pipelines\r\n",
        "\r\n",
        "num_cols = ['holiday', 'workingday', 'temp', 'atemp', 'hum', 'windspeed']\r\n",
        "cat_cols = ['season', 'mnth', 'weekday', 'weathersit']      "
      ],
      "execution_count": 9,
      "outputs": []
    },
    {
      "cell_type": "code",
      "metadata": {
        "id": "x87iv4Npbd_r"
      },
      "source": [
        "# Creating Pipelines\r\n",
        "\r\n",
        "num_pipe = Pipeline([('add_sq_terms', AddSquareTerms(square_variables = [\"atemp\",\"temp\",\"hum\"], num_variables = num_cols)),\r\n",
        "                     ('num_min_max_scaler', MinMaxScalerPandas())\r\n",
        "                    ])\r\n",
        "\r\n",
        "\r\n",
        "cat_pipe = Pipeline([('rare_label_encoder', RareLabelCategoricalEncoder(variables=cat_cols)),\r\n",
        "                     ('target_encoder', ce.TargetEncoder(cols=cat_cols, return_df=True)),\r\n",
        "                     ('cat_min_max_scaler', MinMaxScalerPandas())\r\n",
        "                    ])\r\n",
        "\r\n",
        "combined_pipe = FeatureUnionPandas([('num', num_pipe),\r\n",
        "                                    ('cat', cat_pipe)])"
      ],
      "execution_count": 10,
      "outputs": []
    },
    {
      "cell_type": "markdown",
      "metadata": {
        "id": "qeeDvL3ldzXg"
      },
      "source": [
        "# Splitting into train and test sets"
      ]
    },
    {
      "cell_type": "code",
      "metadata": {
        "id": "4ApOjmtTuWam"
      },
      "source": [
        "X = df_bike1.drop(\"cnt\", axis = 1)\r\n",
        "y = df_bike1[\"cnt\"]\r\n",
        "\r\n",
        "# Splitting the data into train and test set\r\n",
        "X_train, X_test, y_train, y_test = train_test_split(X, y, test_size=0.3, random_state = 100)"
      ],
      "execution_count": 11,
      "outputs": []
    },
    {
      "cell_type": "code",
      "metadata": {
        "id": "DbaS8f7WvH8M"
      },
      "source": [
        "X_train_processed = combined_pipe.fit_transform(X_train,y_train)\r\n",
        "X_test_processed = combined_pipe.transform(X_test)"
      ],
      "execution_count": 12,
      "outputs": []
    },
    {
      "cell_type": "code",
      "metadata": {
        "colab": {
          "base_uri": "https://localhost:8080/",
          "height": 204
        },
        "id": "ybCtplfX7iRw",
        "outputId": "9f951ff8-6c6c-47fd-fec3-c7fb05748932"
      },
      "source": [
        "# Processed X_train\r\n",
        "\r\n",
        "X_train_processed.head()"
      ],
      "execution_count": 13,
      "outputs": [
        {
          "output_type": "execute_result",
          "data": {
            "text/html": [
              "<div>\n",
              "<style scoped>\n",
              "    .dataframe tbody tr th:only-of-type {\n",
              "        vertical-align: middle;\n",
              "    }\n",
              "\n",
              "    .dataframe tbody tr th {\n",
              "        vertical-align: top;\n",
              "    }\n",
              "\n",
              "    .dataframe thead th {\n",
              "        text-align: right;\n",
              "    }\n",
              "</style>\n",
              "<table border=\"1\" class=\"dataframe\">\n",
              "  <thead>\n",
              "    <tr style=\"text-align: right;\">\n",
              "      <th></th>\n",
              "      <th>holiday</th>\n",
              "      <th>workingday</th>\n",
              "      <th>temp</th>\n",
              "      <th>atemp</th>\n",
              "      <th>hum</th>\n",
              "      <th>windspeed</th>\n",
              "      <th>atemp_sq</th>\n",
              "      <th>temp_sq</th>\n",
              "      <th>hum_sq</th>\n",
              "      <th>mnth</th>\n",
              "      <th>season</th>\n",
              "      <th>weathersit</th>\n",
              "      <th>weekday</th>\n",
              "    </tr>\n",
              "  </thead>\n",
              "  <tbody>\n",
              "    <tr>\n",
              "      <th>653</th>\n",
              "      <td>0.0</td>\n",
              "      <td>1.0</td>\n",
              "      <td>0.509887</td>\n",
              "      <td>0.501133</td>\n",
              "      <td>0.575354</td>\n",
              "      <td>0.300794</td>\n",
              "      <td>0.294108</td>\n",
              "      <td>0.292080</td>\n",
              "      <td>0.331032</td>\n",
              "      <td>0.747370</td>\n",
              "      <td>0.644345</td>\n",
              "      <td>1.000000</td>\n",
              "      <td>1.000000</td>\n",
              "    </tr>\n",
              "    <tr>\n",
              "      <th>576</th>\n",
              "      <td>0.0</td>\n",
              "      <td>1.0</td>\n",
              "      <td>0.815169</td>\n",
              "      <td>0.766351</td>\n",
              "      <td>0.725633</td>\n",
              "      <td>0.264686</td>\n",
              "      <td>0.618073</td>\n",
              "      <td>0.683851</td>\n",
              "      <td>0.526544</td>\n",
              "      <td>0.922333</td>\n",
              "      <td>1.000000</td>\n",
              "      <td>1.000000</td>\n",
              "      <td>1.000000</td>\n",
              "    </tr>\n",
              "    <tr>\n",
              "      <th>426</th>\n",
              "      <td>0.0</td>\n",
              "      <td>0.0</td>\n",
              "      <td>0.442393</td>\n",
              "      <td>0.438975</td>\n",
              "      <td>0.640189</td>\n",
              "      <td>0.255342</td>\n",
              "      <td>0.235033</td>\n",
              "      <td>0.227394</td>\n",
              "      <td>0.409842</td>\n",
              "      <td>0.417481</td>\n",
              "      <td>0.000000</td>\n",
              "      <td>0.713826</td>\n",
              "      <td>0.459966</td>\n",
              "    </tr>\n",
              "    <tr>\n",
              "      <th>728</th>\n",
              "      <td>0.0</td>\n",
              "      <td>0.0</td>\n",
              "      <td>0.245101</td>\n",
              "      <td>0.200348</td>\n",
              "      <td>0.498067</td>\n",
              "      <td>0.663106</td>\n",
              "      <td>0.067679</td>\n",
              "      <td>0.083838</td>\n",
              "      <td>0.248071</td>\n",
              "      <td>0.388169</td>\n",
              "      <td>0.000000</td>\n",
              "      <td>1.000000</td>\n",
              "      <td>0.000000</td>\n",
              "    </tr>\n",
              "    <tr>\n",
              "      <th>482</th>\n",
              "      <td>0.0</td>\n",
              "      <td>0.0</td>\n",
              "      <td>0.395666</td>\n",
              "      <td>0.391735</td>\n",
              "      <td>0.504508</td>\n",
              "      <td>0.188475</td>\n",
              "      <td>0.194416</td>\n",
              "      <td>0.187262</td>\n",
              "      <td>0.254528</td>\n",
              "      <td>0.676811</td>\n",
              "      <td>0.762178</td>\n",
              "      <td>0.713826</td>\n",
              "      <td>0.459966</td>\n",
              "    </tr>\n",
              "  </tbody>\n",
              "</table>\n",
              "</div>"
            ],
            "text/plain": [
              "     holiday  workingday      temp  ...    season  weathersit   weekday\n",
              "653      0.0         1.0  0.509887  ...  0.644345    1.000000  1.000000\n",
              "576      0.0         1.0  0.815169  ...  1.000000    1.000000  1.000000\n",
              "426      0.0         0.0  0.442393  ...  0.000000    0.713826  0.459966\n",
              "728      0.0         0.0  0.245101  ...  0.000000    1.000000  0.000000\n",
              "482      0.0         0.0  0.395666  ...  0.762178    0.713826  0.459966\n",
              "\n",
              "[5 rows x 13 columns]"
            ]
          },
          "metadata": {
            "tags": []
          },
          "execution_count": 13
        }
      ]
    },
    {
      "cell_type": "markdown",
      "metadata": {
        "id": "xp4ucZhRX22p"
      },
      "source": [
        "It was found that the target variable has a quadartic relationship with the variables \"temp\", \"atemp\" and \"hum\". Hence, added their squared columns.\r\n",
        "See EDA notebook for more details. "
      ]
    },
    {
      "cell_type": "markdown",
      "metadata": {
        "id": "OtG6iZK0A6UC"
      },
      "source": [
        "# Random Forest without Grid Search"
      ]
    },
    {
      "cell_type": "code",
      "metadata": {
        "colab": {
          "base_uri": "https://localhost:8080/"
        },
        "id": "IEOkTr4GBFlY",
        "outputId": "db87b931-02c3-4cb7-eed1-3b011fd91050"
      },
      "source": [
        "# Instantiating Random Forest \r\n",
        "\r\n",
        "rf = RandomForestRegressor(random_state = 100)\r\n",
        "rf.fit(X_train_processed, y_train)"
      ],
      "execution_count": 14,
      "outputs": [
        {
          "output_type": "execute_result",
          "data": {
            "text/plain": [
              "RandomForestRegressor()"
            ]
          },
          "metadata": {
            "tags": []
          },
          "execution_count": 14
        }
      ]
    },
    {
      "cell_type": "code",
      "metadata": {
        "colab": {
          "base_uri": "https://localhost:8080/"
        },
        "id": "nJBQ6Go7DHQY",
        "outputId": "201baa83-d807-4b29-c591-957e28c2d463"
      },
      "source": [
        "# R2 for train set\r\n",
        "\r\n",
        "y_train_pred_rf = rf.predict(X_train_processed)\r\n",
        "print(\"R2 on train set:\" , round(r2_score(y_train, y_train_pred_rf),2))"
      ],
      "execution_count": 15,
      "outputs": [
        {
          "output_type": "stream",
          "text": [
            "R2 on train set: 0.94\n"
          ],
          "name": "stdout"
        }
      ]
    },
    {
      "cell_type": "code",
      "metadata": {
        "colab": {
          "base_uri": "https://localhost:8080/"
        },
        "id": "u8VJVJkqEHXb",
        "outputId": "25857a9e-0a80-4a7c-978f-91f1088d6afa"
      },
      "source": [
        "# R2 for test set\r\n",
        "\r\n",
        "y_test_pred_rf = rf.predict(X_test_processed)\r\n",
        "print(\"R2 on test set:\" , round(r2_score(y_test, y_test_pred_rf),2))"
      ],
      "execution_count": 16,
      "outputs": [
        {
          "output_type": "stream",
          "text": [
            "R2 on test set: 0.56\n"
          ],
          "name": "stdout"
        }
      ]
    },
    {
      "cell_type": "code",
      "metadata": {
        "colab": {
          "base_uri": "https://localhost:8080/"
        },
        "id": "x1VujA_FEV32",
        "outputId": "bde1a5c3-ce3a-48f8-e247-4b01a7ed2e9b"
      },
      "source": [
        "# RMSE for train set and test set\r\n",
        "\r\n",
        "print(\"Train Set RMSE: \", round(mean_squared_error(y_train, y_train_pred_rf)**0.5,2))\r\n",
        "print(\"Test Set RMSE: \", round(mean_squared_error(y_test, y_test_pred_rf)**0.5,2))"
      ],
      "execution_count": 17,
      "outputs": [
        {
          "output_type": "stream",
          "text": [
            "Train Set RMSE:  459.74\n",
            "Test Set RMSE:  1251.87\n"
          ],
          "name": "stdout"
        }
      ]
    },
    {
      "cell_type": "markdown",
      "metadata": {
        "id": "C7jkGCx8bIpS"
      },
      "source": [
        "The RMSE using Random Forest without Grid Search on the Train Set is 449.77 and on the Test Set is 1240.53. Let's see how the RMSE changes using Grid Search"
      ]
    },
    {
      "cell_type": "markdown",
      "metadata": {
        "id": "Qb9viAzlGT9r"
      },
      "source": [
        "# Random Forest with Grid Search"
      ]
    },
    {
      "cell_type": "code",
      "metadata": {
        "colab": {
          "base_uri": "https://localhost:8080/"
        },
        "id": "jcGMcxBuGfSa",
        "outputId": "3b9ec785-0cbb-4db5-c40d-1946da8faf5c"
      },
      "source": [
        "# GridSearchCV\r\n",
        "\r\n",
        "from sklearn.ensemble import RandomForestRegressor\r\n",
        "hyper_params_cv_rf = {'max_depth': [5, 25, 50, 100],\r\n",
        "                'max_features': [0.05, 0.10, 0.25, 0.5, 0.75],\r\n",
        "                'min_samples_leaf': [3, 7, 11, 15],\r\n",
        "                'n_estimators': [100, 200, 500]\r\n",
        "               }\r\n",
        "\r\n",
        "model_cv_rf = GridSearchCV(estimator=RandomForestRegressor(n_jobs=-1,random_state = 100), \r\n",
        "             param_grid=hyper_params_cv_rf,\r\n",
        "             verbose=1,\r\n",
        "             cv=4,\r\n",
        "             scoring = \"neg_root_mean_squared_error\",\r\n",
        "             return_train_score=True)\r\n",
        "\r\n",
        "model_cv_rf.fit(X_train_processed, y_train)\r\n",
        "\r\n",
        "print(model_cv_rf.best_estimator_)"
      ],
      "execution_count": 18,
      "outputs": [
        {
          "output_type": "stream",
          "text": [
            "Fitting 4 folds for each of 240 candidates, totalling 960 fits\n",
            "RandomForestRegressor(max_depth=100, max_features=0.25, min_samples_leaf=3,\n",
            "                      n_estimators=500, n_jobs=-1)\n"
          ],
          "name": "stdout"
        }
      ]
    },
    {
      "cell_type": "code",
      "metadata": {
        "colab": {
          "base_uri": "https://localhost:8080/"
        },
        "id": "TrBfDm7nO_x0",
        "outputId": "3823bfc1-6e56-4eea-9bcd-c35da6e8e6a2"
      },
      "source": [
        "# Best RMSE for the train set\r\n",
        "\r\n",
        "print('Random Forest CV RMSE Score: ', round(model_cv_rf.best_score_,2)*(-1))"
      ],
      "execution_count": 19,
      "outputs": [
        {
          "output_type": "stream",
          "text": [
            "Random Forest CV RMSE Score:  1237.41\n"
          ],
          "name": "stdout"
        }
      ]
    },
    {
      "cell_type": "code",
      "metadata": {
        "colab": {
          "base_uri": "https://localhost:8080/"
        },
        "id": "BzKw-6y1Ouwi",
        "outputId": "828665ba-f7ad-4812-b463-cde288f19d58"
      },
      "source": [
        "# R2 for train set\r\n",
        "\r\n",
        "y_train_pred_cv_rf = model_cv_rf.predict(X_train_processed)\r\n",
        "print(\"R2 on train set:\" , round(r2_score(y_train, y_train_pred_rf),2))"
      ],
      "execution_count": 20,
      "outputs": [
        {
          "output_type": "stream",
          "text": [
            "R2 on train set: 0.94\n"
          ],
          "name": "stdout"
        }
      ]
    },
    {
      "cell_type": "code",
      "metadata": {
        "colab": {
          "base_uri": "https://localhost:8080/"
        },
        "id": "UVeXIO79O3Wl",
        "outputId": "60268873-9f5c-481c-a3fd-7d3f8d8d5a1c"
      },
      "source": [
        "# R2 for test set\r\n",
        "\r\n",
        "y_test_pred_cv_rf = model_cv_rf.predict(X_test_processed)\r\n",
        "print(\"R2 on test set:\" , round(r2_score(y_test, y_test_pred_rf),2))"
      ],
      "execution_count": 21,
      "outputs": [
        {
          "output_type": "stream",
          "text": [
            "R2 on test set: 0.56\n"
          ],
          "name": "stdout"
        }
      ]
    },
    {
      "cell_type": "code",
      "metadata": {
        "colab": {
          "base_uri": "https://localhost:8080/"
        },
        "id": "cEJGi9woPSJp",
        "outputId": "10917b67-c737-43ff-a398-8757de5c2190"
      },
      "source": [
        "# RMSE for train set and test set\r\n",
        "\r\n",
        "print(\"Train Set RMSE: \", round(mean_squared_error(y_train, y_train_pred_cv_rf)**0.5,2))\r\n",
        "print(\"Test Set RMSE: \", round(mean_squared_error(y_test, y_test_pred_cv_rf)**0.5,2))"
      ],
      "execution_count": 22,
      "outputs": [
        {
          "output_type": "stream",
          "text": [
            "Train Set RMSE:  784.42\n",
            "Test Set RMSE:  1250.2\n"
          ],
          "name": "stdout"
        }
      ]
    },
    {
      "cell_type": "code",
      "metadata": {
        "colab": {
          "base_uri": "https://localhost:8080/",
          "height": 518
        },
        "id": "EulBgVHhcYYQ",
        "outputId": "1053bd78-cae4-4f84-836f-05ef636c7ef4"
      },
      "source": [
        "# Feature Importances\r\n",
        "\r\n",
        "features = X_train_processed.columns\r\n",
        "importances = model_cv_rf.best_estimator_.feature_importances_\r\n",
        "indices = np.argsort(importances)[-15:]\r\n",
        "\r\n",
        "plt.figure(figsize=(16,8))\r\n",
        "plt.title('Feature Importances')\r\n",
        "plt.barh(range(len(indices)), importances[indices], color='b', align='center')\r\n",
        "plt.yticks(range(len(indices)), [features[i] for i in indices])\r\n",
        "plt.xlabel('Relative Importance')\r\n",
        "plt.show()"
      ],
      "execution_count": 23,
      "outputs": [
        {
          "output_type": "display_data",
          "data": {
            "image/png": "[encoded data removed]",
            "text/plain": [
              "<Figure size 1152x576 with 1 Axes>"
            ]
          },
          "metadata": {
            "tags": []
          }
        }
      ]
    },
    {
      "cell_type": "markdown",
      "metadata": {
        "id": "G2MTpDjN-eZm"
      },
      "source": [
        "# Linear Model"
      ]
    },
    {
      "cell_type": "code",
      "metadata": {
        "colab": {
          "base_uri": "https://localhost:8080/",
          "height": 793
        },
        "id": "Y6Ds0_AJ5fEP",
        "outputId": "cf350493-6cd7-4097-b91a-a9fced71b505"
      },
      "source": [
        "# Checking highly correlated variables (above 0.8) \r\n",
        "\r\n",
        "corr = abs(X_train_processed.corr()).stack().reset_index().sort_values(0, ascending = False)\r\n",
        "corr.columns = [\"col1\",\"col2\",\"correlation\"]\r\n",
        "corr[(corr.col1 != corr.col2) & (corr.correlation > 0.8)]"
      ],
      "execution_count": 24,
      "outputs": [
        {
          "output_type": "execute_result",
          "data": {
            "text/html": [
              "<div>\n",
              "<style scoped>\n",
              "    .dataframe tbody tr th:only-of-type {\n",
              "        vertical-align: middle;\n",
              "    }\n",
              "\n",
              "    .dataframe tbody tr th {\n",
              "        vertical-align: top;\n",
              "    }\n",
              "\n",
              "    .dataframe thead th {\n",
              "        text-align: right;\n",
              "    }\n",
              "</style>\n",
              "<table border=\"1\" class=\"dataframe\">\n",
              "  <thead>\n",
              "    <tr style=\"text-align: right;\">\n",
              "      <th></th>\n",
              "      <th>col1</th>\n",
              "      <th>col2</th>\n",
              "      <th>correlation</th>\n",
              "    </tr>\n",
              "  </thead>\n",
              "  <tbody>\n",
              "    <tr>\n",
              "      <th>29</th>\n",
              "      <td>temp</td>\n",
              "      <td>atemp</td>\n",
              "      <td>0.989535</td>\n",
              "    </tr>\n",
              "    <tr>\n",
              "      <th>41</th>\n",
              "      <td>atemp</td>\n",
              "      <td>temp</td>\n",
              "      <td>0.989535</td>\n",
              "    </tr>\n",
              "    <tr>\n",
              "      <th>97</th>\n",
              "      <td>temp_sq</td>\n",
              "      <td>atemp_sq</td>\n",
              "      <td>0.989311</td>\n",
              "    </tr>\n",
              "    <tr>\n",
              "      <th>85</th>\n",
              "      <td>atemp_sq</td>\n",
              "      <td>temp_sq</td>\n",
              "      <td>0.989311</td>\n",
              "    </tr>\n",
              "    <tr>\n",
              "      <th>60</th>\n",
              "      <td>hum</td>\n",
              "      <td>hum_sq</td>\n",
              "      <td>0.986469</td>\n",
              "    </tr>\n",
              "    <tr>\n",
              "      <th>108</th>\n",
              "      <td>hum_sq</td>\n",
              "      <td>hum</td>\n",
              "      <td>0.986469</td>\n",
              "    </tr>\n",
              "    <tr>\n",
              "      <th>45</th>\n",
              "      <td>atemp</td>\n",
              "      <td>atemp_sq</td>\n",
              "      <td>0.984955</td>\n",
              "    </tr>\n",
              "    <tr>\n",
              "      <th>81</th>\n",
              "      <td>atemp_sq</td>\n",
              "      <td>atemp</td>\n",
              "      <td>0.984955</td>\n",
              "    </tr>\n",
              "    <tr>\n",
              "      <th>93</th>\n",
              "      <td>temp_sq</td>\n",
              "      <td>temp</td>\n",
              "      <td>0.984791</td>\n",
              "    </tr>\n",
              "    <tr>\n",
              "      <th>33</th>\n",
              "      <td>temp</td>\n",
              "      <td>temp_sq</td>\n",
              "      <td>0.984791</td>\n",
              "    </tr>\n",
              "    <tr>\n",
              "      <th>80</th>\n",
              "      <td>atemp_sq</td>\n",
              "      <td>temp</td>\n",
              "      <td>0.980634</td>\n",
              "    </tr>\n",
              "    <tr>\n",
              "      <th>32</th>\n",
              "      <td>temp</td>\n",
              "      <td>atemp_sq</td>\n",
              "      <td>0.980634</td>\n",
              "    </tr>\n",
              "    <tr>\n",
              "      <th>46</th>\n",
              "      <td>atemp</td>\n",
              "      <td>temp_sq</td>\n",
              "      <td>0.968496</td>\n",
              "    </tr>\n",
              "    <tr>\n",
              "      <th>94</th>\n",
              "      <td>temp_sq</td>\n",
              "      <td>atemp</td>\n",
              "      <td>0.968496</td>\n",
              "    </tr>\n",
              "    <tr>\n",
              "      <th>127</th>\n",
              "      <td>mnth</td>\n",
              "      <td>season</td>\n",
              "      <td>0.880751</td>\n",
              "    </tr>\n",
              "    <tr>\n",
              "      <th>139</th>\n",
              "      <td>season</td>\n",
              "      <td>mnth</td>\n",
              "      <td>0.880751</td>\n",
              "    </tr>\n",
              "    <tr>\n",
              "      <th>119</th>\n",
              "      <td>mnth</td>\n",
              "      <td>temp</td>\n",
              "      <td>0.862423</td>\n",
              "    </tr>\n",
              "    <tr>\n",
              "      <th>35</th>\n",
              "      <td>temp</td>\n",
              "      <td>mnth</td>\n",
              "      <td>0.862423</td>\n",
              "    </tr>\n",
              "    <tr>\n",
              "      <th>120</th>\n",
              "      <td>mnth</td>\n",
              "      <td>atemp</td>\n",
              "      <td>0.852560</td>\n",
              "    </tr>\n",
              "    <tr>\n",
              "      <th>48</th>\n",
              "      <td>atemp</td>\n",
              "      <td>mnth</td>\n",
              "      <td>0.852560</td>\n",
              "    </tr>\n",
              "    <tr>\n",
              "      <th>124</th>\n",
              "      <td>mnth</td>\n",
              "      <td>temp_sq</td>\n",
              "      <td>0.825502</td>\n",
              "    </tr>\n",
              "    <tr>\n",
              "      <th>100</th>\n",
              "      <td>temp_sq</td>\n",
              "      <td>mnth</td>\n",
              "      <td>0.825502</td>\n",
              "    </tr>\n",
              "    <tr>\n",
              "      <th>123</th>\n",
              "      <td>mnth</td>\n",
              "      <td>atemp_sq</td>\n",
              "      <td>0.822633</td>\n",
              "    </tr>\n",
              "    <tr>\n",
              "      <th>87</th>\n",
              "      <td>atemp_sq</td>\n",
              "      <td>mnth</td>\n",
              "      <td>0.822633</td>\n",
              "    </tr>\n",
              "  </tbody>\n",
              "</table>\n",
              "</div>"
            ],
            "text/plain": [
              "         col1      col2  correlation\n",
              "29       temp     atemp     0.989535\n",
              "41      atemp      temp     0.989535\n",
              "97    temp_sq  atemp_sq     0.989311\n",
              "85   atemp_sq   temp_sq     0.989311\n",
              "60        hum    hum_sq     0.986469\n",
              "108    hum_sq       hum     0.986469\n",
              "45      atemp  atemp_sq     0.984955\n",
              "81   atemp_sq     atemp     0.984955\n",
              "93    temp_sq      temp     0.984791\n",
              "33       temp   temp_sq     0.984791\n",
              "80   atemp_sq      temp     0.980634\n",
              "32       temp  atemp_sq     0.980634\n",
              "46      atemp   temp_sq     0.968496\n",
              "94    temp_sq     atemp     0.968496\n",
              "127      mnth    season     0.880751\n",
              "139    season      mnth     0.880751\n",
              "119      mnth      temp     0.862423\n",
              "35       temp      mnth     0.862423\n",
              "120      mnth     atemp     0.852560\n",
              "48      atemp      mnth     0.852560\n",
              "124      mnth   temp_sq     0.825502\n",
              "100   temp_sq      mnth     0.825502\n",
              "123      mnth  atemp_sq     0.822633\n",
              "87   atemp_sq      mnth     0.822633"
            ]
          },
          "metadata": {
            "tags": []
          },
          "execution_count": 24
        }
      ]
    },
    {
      "cell_type": "code",
      "metadata": {
        "id": "I9FwIy_051yp"
      },
      "source": [
        "# Dropping highly correlated variables\r\n",
        "\r\n",
        "X_train_processed2 = X_train_processed.drop(['atemp','atemp_sq','season'], axis = 1)"
      ],
      "execution_count": 25,
      "outputs": []
    },
    {
      "cell_type": "code",
      "metadata": {
        "id": "vw0otE2tbtVh",
        "colab": {
          "base_uri": "https://localhost:8080/"
        },
        "outputId": "a9ac59a6-852c-4dcb-9101-608541bc7c68"
      },
      "source": [
        "# Building a linear model\n",
        "\n",
        "X_train_lm = sm.add_constant(X_train_processed2)\n",
        "lr = sm.OLS(y_train, X_train_lm).fit()\n",
        "print(lr.summary())"
      ],
      "execution_count": 26,
      "outputs": [
        {
          "output_type": "stream",
          "text": [
            "                            OLS Regression Results                            \n",
            "==============================================================================\n",
            "Dep. Variable:                    cnt   R-squared:                       0.610\n",
            "Model:                            OLS   Adj. R-squared:                  0.602\n",
            "Method:                 Least Squares   F-statistic:                     78.26\n",
            "Date:                Thu, 25 Feb 2021   Prob (F-statistic):           1.25e-95\n",
            "Time:                        20:16:02   Log-Likelihood:                -4355.9\n",
            "No. Observations:                 511   AIC:                             8734.\n",
            "Df Residuals:                     500   BIC:                             8780.\n",
            "Df Model:                          10                                         \n",
            "Covariance Type:            nonrobust                                         \n",
            "==============================================================================\n",
            "                 coef    std err          t      P>|t|      [0.025      0.975]\n",
            "------------------------------------------------------------------------------\n",
            "const      -3372.1069    852.504     -3.956      0.000   -5047.038   -1697.176\n",
            "holiday     -781.6623    371.425     -2.104      0.036   -1511.408     -51.917\n",
            "workingday   -26.1938    203.271     -0.129      0.898    -425.564     373.176\n",
            "temp        1.848e+04   1686.590     10.958      0.000    1.52e+04    2.18e+04\n",
            "hum         9156.7398   2551.119      3.589      0.000    4144.505    1.42e+04\n",
            "windspeed  -2033.3942    349.229     -5.823      0.000   -2719.531   -1347.257\n",
            "temp_sq    -1.357e+04   1407.079     -9.643      0.000   -1.63e+04   -1.08e+04\n",
            "hum_sq     -9326.3356   2062.167     -4.523      0.000   -1.34e+04   -5274.754\n",
            "mnth         857.5778    346.354      2.476      0.014     177.089    1538.067\n",
            "weathersit  1174.9283    377.576      3.112      0.002     433.096    1916.760\n",
            "weekday      308.2255    299.746      1.028      0.304    -280.691     897.142\n",
            "==============================================================================\n",
            "Omnibus:                       53.363   Durbin-Watson:                   2.014\n",
            "Prob(Omnibus):                  0.000   Jarque-Bera (JB):               16.293\n",
            "Skew:                           0.076   Prob(JB):                     0.000290\n",
            "Kurtosis:                       2.138   Cond. No.                         127.\n",
            "==============================================================================\n",
            "\n",
            "Warnings:\n",
            "[1] Standard Errors assume that the covariance matrix of the errors is correctly specified.\n"
          ],
          "name": "stdout"
        }
      ]
    },
    {
      "cell_type": "code",
      "metadata": {
        "id": "956wHP4sCi-n"
      },
      "source": [
        "# Dropping 'workingday','weekday' as they have high p-values\r\n",
        "\r\n",
        "X_train_processed3 = X_train_processed2.drop(['workingday','weekday'], axis = 1)"
      ],
      "execution_count": 27,
      "outputs": []
    },
    {
      "cell_type": "code",
      "metadata": {
        "colab": {
          "base_uri": "https://localhost:8080/"
        },
        "id": "fInv4IlUCxgR",
        "outputId": "82f9f03a-d4e1-4cb5-dc27-b44f3e64cd63"
      },
      "source": [
        "X_train_lm = sm.add_constant(X_train_processed3)\r\n",
        "lr = sm.OLS(y_train, X_train_lm).fit()\r\n",
        "print(lr.summary())"
      ],
      "execution_count": 28,
      "outputs": [
        {
          "output_type": "stream",
          "text": [
            "                            OLS Regression Results                            \n",
            "==============================================================================\n",
            "Dep. Variable:                    cnt   R-squared:                       0.608\n",
            "Model:                            OLS   Adj. R-squared:                  0.602\n",
            "Method:                 Least Squares   F-statistic:                     97.43\n",
            "Date:                Thu, 25 Feb 2021   Prob (F-statistic):           4.26e-97\n",
            "Time:                        20:16:02   Log-Likelihood:                -4357.2\n",
            "No. Observations:                 511   AIC:                             8732.\n",
            "Df Residuals:                     502   BIC:                             8770.\n",
            "Df Model:                           8                                         \n",
            "Covariance Type:            nonrobust                                         \n",
            "==============================================================================\n",
            "                 coef    std err          t      P>|t|      [0.025      0.975]\n",
            "------------------------------------------------------------------------------\n",
            "const      -3226.4467    847.492     -3.807      0.000   -4891.516   -1561.378\n",
            "holiday     -775.3255    347.965     -2.228      0.026   -1458.972     -91.679\n",
            "temp        1.858e+04   1684.176     11.030      0.000    1.53e+04    2.19e+04\n",
            "hum         9421.2480   2546.563      3.700      0.000    4418.013    1.44e+04\n",
            "windspeed  -2045.0267    349.099     -5.858      0.000   -2730.901   -1359.152\n",
            "temp_sq    -1.361e+04   1405.990     -9.678      0.000   -1.64e+04   -1.08e+04\n",
            "hum_sq     -9575.1963   2056.914     -4.655      0.000   -1.36e+04   -5533.976\n",
            "mnth         832.8521    346.008      2.407      0.016     153.049    1512.655\n",
            "weathersit  1115.0525    375.781      2.967      0.003     376.755    1853.350\n",
            "==============================================================================\n",
            "Omnibus:                       53.876   Durbin-Watson:                   2.011\n",
            "Prob(Omnibus):                  0.000   Jarque-Bera (JB):               16.376\n",
            "Skew:                           0.076   Prob(JB):                     0.000278\n",
            "Kurtosis:                       2.136   Cond. No.                         113.\n",
            "==============================================================================\n",
            "\n",
            "Warnings:\n",
            "[1] Standard Errors assume that the covariance matrix of the errors is correctly specified.\n"
          ],
          "name": "stdout"
        }
      ]
    },
    {
      "cell_type": "code",
      "metadata": {
        "id": "VATUsn1wj2cO"
      },
      "source": [
        "# Predictions for train set\r\n",
        "\r\n",
        "y_train_pred = lr.predict(X_train_lm)"
      ],
      "execution_count": 29,
      "outputs": []
    },
    {
      "cell_type": "code",
      "metadata": {
        "id": "QLVuGS55iGUn",
        "colab": {
          "base_uri": "https://localhost:8080/",
          "height": 336
        },
        "outputId": "8a820369-9434-4d31-b855-41b85989606d"
      },
      "source": [
        "# Plot the histogram of the error terms\n",
        "\n",
        "fig = plt.figure()\n",
        "sns.distplot((y_train - y_train_pred), bins = 20)\n",
        "fig.suptitle('Error Terms', fontsize = 20)                  \n",
        "plt.xlabel('Errors', fontsize = 18)"
      ],
      "execution_count": 30,
      "outputs": [
        {
          "output_type": "execute_result",
          "data": {
            "text/plain": [
              "Text(0.5, 0, 'Errors')"
            ]
          },
          "metadata": {
            "tags": []
          },
          "execution_count": 30
        },
        {
          "output_type": "display_data",
          "data": {
            "image/png": "[encoded data removed]",
            "text/plain": [
              "<Figure size 432x288 with 1 Axes>"
            ]
          },
          "metadata": {
            "tags": []
          }
        }
      ]
    },
    {
      "cell_type": "markdown",
      "metadata": {
        "id": "Ze20ljhqmvCt"
      },
      "source": [
        "From the plot above we can observe that the error terms are somewhat normally distributed."
      ]
    },
    {
      "cell_type": "code",
      "metadata": {
        "id": "gz0iSAkqX-lS",
        "colab": {
          "base_uri": "https://localhost:8080/",
          "height": 302
        },
        "outputId": "4a5af2a1-47d7-4e70-bcb3-c2ea9c617007"
      },
      "source": [
        "# Plot the residuals after fitting a linear model\n",
        "sns.residplot(y_train, y_train_pred, color=\"b\")"
      ],
      "execution_count": 31,
      "outputs": [
        {
          "output_type": "execute_result",
          "data": {
            "text/plain": [
              "<matplotlib.axes._subplots.AxesSubplot at 0x7f76d71a5590>"
            ]
          },
          "metadata": {
            "tags": []
          },
          "execution_count": 31
        },
        {
          "output_type": "display_data",
          "data": {
            "image/png": "[encoded data removed]",
            "text/plain": [
              "<Figure size 432x288 with 1 Axes>"
            ]
          },
          "metadata": {
            "tags": []
          }
        }
      ]
    },
    {
      "cell_type": "markdown",
      "metadata": {
        "id": "qSeU6BV8m-mX"
      },
      "source": [
        "From the plot above we can observe that the error terms have somewhat uniform variance."
      ]
    },
    {
      "cell_type": "markdown",
      "metadata": {
        "id": "2iZon6C9qiYp"
      },
      "source": [
        "### Making predictions on Test set"
      ]
    },
    {
      "cell_type": "code",
      "metadata": {
        "id": "ydEErE_rHZ7N"
      },
      "source": [
        "# Dropping highly correlated variables\r\n",
        "\r\n",
        "X_test_processed1 = X_test_processed.drop(['workingday','weekday','atemp','atemp_sq','season'], axis = 1)"
      ],
      "execution_count": 32,
      "outputs": []
    },
    {
      "cell_type": "code",
      "metadata": {
        "id": "sFap2TlArFjK"
      },
      "source": [
        "# Adding a constant variable in X_test\n",
        "X_test_lm = sm.add_constant(X_test_processed1)\n",
        "\n",
        "# Predicting y(dependent variable) for test data set \n",
        "y_pred = lr.predict(X_test_lm)"
      ],
      "execution_count": 33,
      "outputs": []
    },
    {
      "cell_type": "code",
      "metadata": {
        "id": "h2hGnLu_sudc",
        "colab": {
          "base_uri": "https://localhost:8080/",
          "height": 336
        },
        "outputId": "5b80d9bd-5043-4615-fe7d-ae48e06a2db1"
      },
      "source": [
        "# Plotting y_test and y_pred to understand the spread\n",
        "fig = plt.figure()\n",
        "\n",
        "plt.scatter(y_test, y_pred)\n",
        "fig.suptitle('y_test vs y_pred', fontsize = 20)              \n",
        "plt.xlabel('y_test', fontsize = 18)                         \n",
        "plt.ylabel('y_pred', fontsize = 16) "
      ],
      "execution_count": 34,
      "outputs": [
        {
          "output_type": "execute_result",
          "data": {
            "text/plain": [
              "Text(0, 0.5, 'y_pred')"
            ]
          },
          "metadata": {
            "tags": []
          },
          "execution_count": 34
        },
        {
          "output_type": "display_data",
          "data": {
            "image/png": "[encoded data removed]",
            "text/plain": [
              "<Figure size 432x288 with 1 Axes>"
            ]
          },
          "metadata": {
            "tags": []
          }
        }
      ]
    },
    {
      "cell_type": "code",
      "metadata": {
        "id": "W89Tug_mtEsM",
        "colab": {
          "base_uri": "https://localhost:8080/"
        },
        "outputId": "c0df1688-18b4-44db-940a-5db6602d1419"
      },
      "source": [
        "# R2 for train set and test set\n",
        "\n",
        "print(\"Train Set R2: \", round(r2_score(y_train, y_train_pred),3))\n",
        "print(\"Test Set R2: \", round(r2_score(y_test, y_pred),3))"
      ],
      "execution_count": 35,
      "outputs": [
        {
          "output_type": "stream",
          "text": [
            "Train Set R2:  0.608\n",
            "Test Set R2:  0.582\n"
          ],
          "name": "stdout"
        }
      ]
    },
    {
      "cell_type": "code",
      "metadata": {
        "id": "gwp5u5txuNyc",
        "colab": {
          "base_uri": "https://localhost:8080/"
        },
        "outputId": "08e72410-7093-4e7a-88fa-8e6ec87bf18d"
      },
      "source": [
        "# RMSE for train set and test set\n",
        "print(\"Train Set RMSE: \", round(mean_squared_error(y_train, y_train_pred)**0.5,2))\n",
        "print(\"Test Set RMSE: \", round(mean_squared_error(y_test, y_pred)**0.5,2))"
      ],
      "execution_count": 36,
      "outputs": [
        {
          "output_type": "stream",
          "text": [
            "Train Set RMSE:  1221.43\n",
            "Test Set RMSE:  1224.79\n"
          ],
          "name": "stdout"
        }
      ]
    },
    {
      "cell_type": "code",
      "metadata": {
        "id": "GIeEk3U9fR3a"
      },
      "source": [
        "# Comparison of RMSE and R2 for Random forest Model vs Linear Model\r\n",
        "\r\n",
        "# Random Forest with Grid Search|    Linear Model:\r\n",
        "# ---------------------------------------------------------------                         \r\n",
        "# Train Set RMSE:  784.42       |    Train Set RMSE:  1221.43\r\n",
        "# Test Set RMSE:  1250.20       |    Test Set RMSE:  1224.79\r\n",
        "#                               |                \r\n",
        "# Train Set R2: 0.94            |    Train Set R2: 0.608\r\n",
        "# Test Set R2: 0.56             |    Test Set R2: 0.582\r\n",
        "\r\n",
        "# We can see that the RMSE and R2 on test set of Linear Model is better than Random forest model. \r\n",
        "# Random forest model is overfitting as the R2 on the train set is very high compared to the R2 on the test set."
      ],
      "execution_count": 37,
      "outputs": []
    },
    {
      "cell_type": "markdown",
      "metadata": {
        "id": "0AuTnNy3jjVx"
      },
      "source": [
        "# Fin!"
      ]
    }
  ]
}